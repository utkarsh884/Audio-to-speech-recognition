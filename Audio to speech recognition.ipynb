{
  "nbformat": 4,
  "nbformat_minor": 0,
  "metadata": {
    "colab": {
      "provenance": [],
      "authorship_tag": "ABX9TyPRjSqVhPDy0BWwTFyn3Zmi",
      "include_colab_link": true
    },
    "kernelspec": {
      "name": "python3",
      "display_name": "Python 3"
    },
    "language_info": {
      "name": "python"
    }
  },
  "cells": [
    {
      "cell_type": "markdown",
      "metadata": {
        "id": "view-in-github",
        "colab_type": "text"
      },
      "source": [
        "<a href=\"https://colab.research.google.com/github/sneharreddy25/project_2025/blob/main/Audio_to_speech_recognition_prj.ipynb\" target=\"_parent\"><img src=\"https://colab.research.google.com/assets/colab-badge.svg\" alt=\"Open In Colab\"/></a>"
      ]
    },
    {
      "cell_type": "code",
      "execution_count": 2,
      "metadata": {
        "id": "r4d1xvj9yMIT"
      },
      "outputs": [],
      "source": [
        "#Audio to speech recognition prj"
      ]
    },
    {
      "cell_type": "code",
      "source": [
        "!pip install SpeechRecognition==3.10.0"
      ],
      "metadata": {
        "colab": {
          "base_uri": "https://localhost:8080/"
        },
        "id": "SfzIFURpytnF",
        "outputId": "3b8b2064-a92e-4ce1-9954-35ae953f4a64"
      },
      "execution_count": 4,
      "outputs": [
        {
          "output_type": "stream",
          "name": "stdout",
          "text": [
            "Collecting SpeechRecognition==3.10.0\n",
            "  Downloading SpeechRecognition-3.10.0-py2.py3-none-any.whl.metadata (28 kB)\n",
            "Requirement already satisfied: requests>=2.26.0 in /usr/local/lib/python3.11/dist-packages (from SpeechRecognition==3.10.0) (2.32.3)\n",
            "Requirement already satisfied: charset-normalizer<4,>=2 in /usr/local/lib/python3.11/dist-packages (from requests>=2.26.0->SpeechRecognition==3.10.0) (3.4.2)\n",
            "Requirement already satisfied: idna<4,>=2.5 in /usr/local/lib/python3.11/dist-packages (from requests>=2.26.0->SpeechRecognition==3.10.0) (3.10)\n",
            "Requirement already satisfied: urllib3<3,>=1.21.1 in /usr/local/lib/python3.11/dist-packages (from requests>=2.26.0->SpeechRecognition==3.10.0) (2.4.0)\n",
            "Requirement already satisfied: certifi>=2017.4.17 in /usr/local/lib/python3.11/dist-packages (from requests>=2.26.0->SpeechRecognition==3.10.0) (2025.4.26)\n",
            "Downloading SpeechRecognition-3.10.0-py2.py3-none-any.whl (32.8 MB)\n",
            "\u001b[2K   \u001b[90m━━━━━━━━━━━━━━━━━━━━━━━━━━━━━━━━━━━━━━━━\u001b[0m \u001b[32m32.8/32.8 MB\u001b[0m \u001b[31m55.6 MB/s\u001b[0m eta \u001b[36m0:00:00\u001b[0m\n",
            "\u001b[?25hInstalling collected packages: SpeechRecognition\n",
            "Successfully installed SpeechRecognition-3.10.0\n"
          ]
        }
      ]
    },
    {
      "cell_type": "code",
      "execution_count": 7,
      "metadata": {
        "colab": {
          "base_uri": "https://localhost:8080/"
        },
        "id": "b9gwbwUbzAPc",
        "outputId": "f89b1d6a-f0fd-4110-8c09-190369586ec3"
      },
      "outputs": [
        {
          "output_type": "stream",
          "name": "stdout",
          "text": [
            "You said: the delicious Roma a freshly baked bread filled the bakery\n"
          ]
        }
      ],
      "source": [
        "import speech_recognition as sr\n",
        "\n",
        "# Initialize recognizer\n",
        "recognizer = sr.Recognizer()\n",
        "\n",
        "# Specify the path to your audio file in Colab\n",
        "audio_file_path = '/euphoric.wav' # Replace with the actual path to your file\n",
        "\n",
        "try:\n",
        "    with sr.AudioFile(audio_file_path) as source:\n",
        "        audio = recognizer.record(source)  # Read the entire audio file\n",
        "\n",
        "    # Recognize speech using Google Web Speech API\n",
        "    text = recognizer.recognize_google(audio)\n",
        "    print(\"You said:\", text)\n",
        "\n",
        "except sr.UnknownValueError:\n",
        "    print(\"Sorry, could not understand audio\")\n",
        "except sr.RequestError as e:\n",
        "    print(\"Could not request results; {0}\".format(e))\n",
        "except FileNotFoundError:\n",
        "    print(f\"Error: Audio file not found at {audio_file_path}\")"
      ]
    },
    {
      "cell_type": "code",
      "source": [],
      "metadata": {
        "id": "_rxA_U_3y4ra"
      },
      "execution_count": null,
      "outputs": []
    }
  ]
}